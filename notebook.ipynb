{
 "cells": [
  {
   "cell_type": "code",
   "execution_count": 1,
   "metadata": {},
   "outputs": [],
   "source": [
    "import pandas as pd\n",
    "import numpy as np\n",
    "import seaborn as sns\n",
    "import matplotlib.pyplot as plt\n",
    "from sklearn.model_selection import train_test_split\n",
    "from sklearn.feature_extraction.text import TfidfVectorizer, CountVectorizer\n",
    "from sklearn.metrics import classification_report, accuracy_score, confusion_matrix\n",
    "from sklearn.linear_model import LogisticRegression\n",
    "from sklearn.ensemble import RandomForestClassifier"
   ]
  },
  {
   "cell_type": "code",
   "execution_count": 2,
   "metadata": {},
   "outputs": [],
   "source": [
    "data = pd.read_csv('FakeNewsNet.csv')"
   ]
  },
  {
   "cell_type": "code",
   "execution_count": 3,
   "metadata": {},
   "outputs": [
    {
     "data": {
      "text/html": [
       "<div>\n",
       "<style scoped>\n",
       "    .dataframe tbody tr th:only-of-type {\n",
       "        vertical-align: middle;\n",
       "    }\n",
       "\n",
       "    .dataframe tbody tr th {\n",
       "        vertical-align: top;\n",
       "    }\n",
       "\n",
       "    .dataframe thead th {\n",
       "        text-align: right;\n",
       "    }\n",
       "</style>\n",
       "<table border=\"1\" class=\"dataframe\">\n",
       "  <thead>\n",
       "    <tr style=\"text-align: right;\">\n",
       "      <th></th>\n",
       "      <th>title</th>\n",
       "      <th>news_url</th>\n",
       "      <th>source_domain</th>\n",
       "      <th>tweet_num</th>\n",
       "      <th>real</th>\n",
       "    </tr>\n",
       "  </thead>\n",
       "  <tbody>\n",
       "    <tr>\n",
       "      <th>0</th>\n",
       "      <td>Kandi Burruss Explodes Over Rape Accusation on...</td>\n",
       "      <td>http://toofab.com/2017/05/08/real-housewives-a...</td>\n",
       "      <td>toofab.com</td>\n",
       "      <td>42</td>\n",
       "      <td>1</td>\n",
       "    </tr>\n",
       "    <tr>\n",
       "      <th>1</th>\n",
       "      <td>People's Choice Awards 2018: The best red carp...</td>\n",
       "      <td>https://www.today.com/style/see-people-s-choic...</td>\n",
       "      <td>www.today.com</td>\n",
       "      <td>0</td>\n",
       "      <td>1</td>\n",
       "    </tr>\n",
       "    <tr>\n",
       "      <th>2</th>\n",
       "      <td>Sophia Bush Sends Sweet Birthday Message to 'O...</td>\n",
       "      <td>https://www.etonline.com/news/220806_sophia_bu...</td>\n",
       "      <td>www.etonline.com</td>\n",
       "      <td>63</td>\n",
       "      <td>1</td>\n",
       "    </tr>\n",
       "    <tr>\n",
       "      <th>3</th>\n",
       "      <td>Colombian singer Maluma sparks rumours of inap...</td>\n",
       "      <td>https://www.dailymail.co.uk/news/article-33655...</td>\n",
       "      <td>www.dailymail.co.uk</td>\n",
       "      <td>20</td>\n",
       "      <td>1</td>\n",
       "    </tr>\n",
       "    <tr>\n",
       "      <th>4</th>\n",
       "      <td>Gossip Girl 10 Years Later: How Upper East Sid...</td>\n",
       "      <td>https://www.zerchoo.com/entertainment/gossip-g...</td>\n",
       "      <td>www.zerchoo.com</td>\n",
       "      <td>38</td>\n",
       "      <td>1</td>\n",
       "    </tr>\n",
       "  </tbody>\n",
       "</table>\n",
       "</div>"
      ],
      "text/plain": [
       "                                               title  \\\n",
       "0  Kandi Burruss Explodes Over Rape Accusation on...   \n",
       "1  People's Choice Awards 2018: The best red carp...   \n",
       "2  Sophia Bush Sends Sweet Birthday Message to 'O...   \n",
       "3  Colombian singer Maluma sparks rumours of inap...   \n",
       "4  Gossip Girl 10 Years Later: How Upper East Sid...   \n",
       "\n",
       "                                            news_url        source_domain  \\\n",
       "0  http://toofab.com/2017/05/08/real-housewives-a...           toofab.com   \n",
       "1  https://www.today.com/style/see-people-s-choic...        www.today.com   \n",
       "2  https://www.etonline.com/news/220806_sophia_bu...     www.etonline.com   \n",
       "3  https://www.dailymail.co.uk/news/article-33655...  www.dailymail.co.uk   \n",
       "4  https://www.zerchoo.com/entertainment/gossip-g...      www.zerchoo.com   \n",
       "\n",
       "   tweet_num  real  \n",
       "0         42     1  \n",
       "1          0     1  \n",
       "2         63     1  \n",
       "3         20     1  \n",
       "4         38     1  "
      ]
     },
     "execution_count": 3,
     "metadata": {},
     "output_type": "execute_result"
    }
   ],
   "source": [
    "data.head()"
   ]
  },
  {
   "cell_type": "code",
   "execution_count": 4,
   "metadata": {},
   "outputs": [
    {
     "data": {
      "image/png": "[encoded data removed]",
      "text/plain": [
       "<Figure size 1440x576 with 1 Axes>"
      ]
     },
     "metadata": {
      "needs_background": "light"
     },
     "output_type": "display_data"
    }
   ],
   "source": [
    "fig, ax = plt.subplots(figsize=(20, 8))\n",
    "sns.countplot(data=data, x='real', ax=ax)\n",
    "plt.xticks([0,1], ['False', 'True'])\n",
    "plt.xlabel('Real', fontsize=20)\n",
    "plt.show()"
   ]
  },
  {
   "cell_type": "code",
   "execution_count": 5,
   "metadata": {},
   "outputs": [],
   "source": [
    "\n",
    "vectorizer = TfidfVectorizer()\n",
    "X = vectorizer.fit_transform(data['title'])\n",
    "y = data['real']"
   ]
  },
  {
   "cell_type": "code",
   "execution_count": 6,
   "metadata": {},
   "outputs": [],
   "source": [
    "X_train, X_test, y_train, y_test = train_test_split(X, y, test_size=0.2, random_state=42)"
   ]
  },
  {
   "cell_type": "code",
   "execution_count": 7,
   "metadata": {},
   "outputs": [],
   "source": [
    "model_lr = LogisticRegression()\n",
    "\n",
    "model_rf = RandomForestClassifier()"
   ]
  },
  {
   "cell_type": "code",
   "execution_count": 8,
   "metadata": {},
   "outputs": [],
   "source": [
    "def plot_confusion_matrix(cm, model_name):\n",
    "    plt.figure(figsize=(15, 5))\n",
    "    sns.heatmap(cm, annot=True, fmt='d', cmap='Blues', cbar=False, xticklabels=['Real', 'Fake'], yticklabels=['Real', 'Fake'])\n",
    "    plt.title(f'Confusion Matrix for {model_name}')\n",
    "    plt.xlabel('Predicted')\n",
    "    plt.ylabel('True')\n",
    "    plt.show()"
   ]
  },
  {
   "cell_type": "code",
   "execution_count": 9,
   "metadata": {},
   "outputs": [
    {
     "data": {
      "image/png": "[encoded data removed]",
      "text/plain": [
       "<Figure size 1080x360 with 1 Axes>"
      ]
     },
     "metadata": {
      "needs_background": "light"
     },
     "output_type": "display_data"
    },
    {
     "name": "stdout",
     "output_type": "stream",
     "text": [
      "Logistic Regression Accuracy: 0.8323275862068965\n",
      "              precision    recall  f1-score   support\n",
      "\n",
      "           0       0.79      0.43      0.55      1131\n",
      "           1       0.84      0.96      0.90      3509\n",
      "\n",
      "    accuracy                           0.83      4640\n",
      "   macro avg       0.81      0.70      0.73      4640\n",
      "weighted avg       0.83      0.83      0.81      4640\n",
      "\n"
     ]
    },
    {
     "data": {
      "image/png": "[encoded data removed]",
      "text/plain": [
       "<Figure size 1080x360 with 1 Axes>"
      ]
     },
     "metadata": {
      "needs_background": "light"
     },
     "output_type": "display_data"
    },
    {
     "name": "stdout",
     "output_type": "stream",
     "text": [
      "Random Forest Accuracy: 0.8280172413793103\n",
      "              precision    recall  f1-score   support\n",
      "\n",
      "           0       0.74      0.46      0.56      1131\n",
      "           1       0.84      0.95      0.89      3509\n",
      "\n",
      "    accuracy                           0.83      4640\n",
      "   macro avg       0.79      0.70      0.73      4640\n",
      "weighted avg       0.82      0.83      0.81      4640\n",
      "\n"
     ]
    }
   ],
   "source": [
    "# Training and Evaluation: Logistic Regression and Random Forest\n",
    "for model, model_name in zip([model_lr, model_rf], ['Logistic Regression', 'Random Forest']):\n",
    "    model.fit(X_train, y_train)\n",
    "    y_pred = model.predict(X_test)\n",
    "    cm = confusion_matrix(y_test, y_pred)\n",
    "    plot_confusion_matrix(cm, model_name)\n",
    "    print(f\"{model_name} Accuracy:\", accuracy_score(y_test, y_pred))\n",
    "    print(classification_report(y_test, y_pred))"
   ]
  },
  {
   "cell_type": "code",
   "execution_count": 10,
   "metadata": {},
   "outputs": [],
   "source": [
    "# Histogram of words in \"title\" more likely to be fake news\n",
    "fake_titles = data[data['real'] == 0]['title']\n",
    "count_vectorizer = CountVectorizer(stop_words='english', max_features=20)\n",
    "word_counts = count_vectorizer.fit_transform(fake_titles)\n",
    "word_counts_array = word_counts.toarray().sum(axis=0)\n",
    "words = count_vectorizer.get_feature_names_out()"
   ]
  },
  {
   "cell_type": "code",
   "execution_count": 11,
   "metadata": {},
   "outputs": [
    {
     "data": {
      "image/png": "[encoded data removed]",
      "text/plain": [
       "<Figure size 1296x432 with 1 Axes>"
      ]
     },
     "metadata": {
      "needs_background": "light"
     },
     "output_type": "display_data"
    }
   ],
   "source": [
    "plt.figure(figsize=(18, 6))\n",
    "plt.bar(words, word_counts_array)\n",
    "plt.title(\"Top 20 Words in Fake News Titles\")\n",
    "plt.xlabel(\"Words\")\n",
    "plt.ylabel(\"Frequency\")\n",
    "plt.show()"
   ]
  },
  {
   "cell_type": "code",
   "execution_count": 12,
   "metadata": {},
   "outputs": [
    {
     "name": "stdout",
     "output_type": "stream",
     "text": [
      "[Epoch 1, Batch 100] Loss: 0.488\n",
      "[Epoch 1, Batch 200] Loss: 0.445\n",
      "[Epoch 1, Batch 300] Loss: 0.403\n",
      "[Epoch 1, Batch 400] Loss: 0.382\n",
      "[Epoch 1, Batch 500] Loss: 0.394\n",
      "[Epoch 1, Batch 600] Loss: 0.390\n",
      "[Epoch 1, Batch 700] Loss: 0.381\n",
      "[Epoch 2, Batch 100] Loss: 0.245\n",
      "[Epoch 2, Batch 200] Loss: 0.234\n",
      "[Epoch 2, Batch 300] Loss: 0.246\n",
      "[Epoch 2, Batch 400] Loss: 0.259\n",
      "[Epoch 2, Batch 500] Loss: 0.256\n",
      "[Epoch 2, Batch 600] Loss: 0.251\n",
      "[Epoch 2, Batch 700] Loss: 0.263\n",
      "[Epoch 3, Batch 100] Loss: 0.151\n",
      "[Epoch 3, Batch 200] Loss: 0.146\n",
      "[Epoch 3, Batch 300] Loss: 0.162\n",
      "[Epoch 3, Batch 400] Loss: 0.160\n",
      "[Epoch 3, Batch 500] Loss: 0.163\n",
      "[Epoch 3, Batch 600] Loss: 0.178\n",
      "[Epoch 3, Batch 700] Loss: 0.176\n",
      "[Epoch 4, Batch 100] Loss: 0.100\n",
      "[Epoch 4, Batch 200] Loss: 0.095\n",
      "[Epoch 4, Batch 300] Loss: 0.094\n",
      "[Epoch 4, Batch 400] Loss: 0.106\n",
      "[Epoch 4, Batch 500] Loss: 0.104\n",
      "[Epoch 4, Batch 600] Loss: 0.114\n",
      "[Epoch 4, Batch 700] Loss: 0.103\n",
      "[Epoch 5, Batch 100] Loss: 0.054\n",
      "[Epoch 5, Batch 200] Loss: 0.062\n",
      "[Epoch 5, Batch 300] Loss: 0.076\n",
      "[Epoch 5, Batch 400] Loss: 0.059\n",
      "[Epoch 5, Batch 500] Loss: 0.072\n",
      "[Epoch 5, Batch 600] Loss: 0.070\n",
      "[Epoch 5, Batch 700] Loss: 0.084\n",
      "[Epoch 6, Batch 100] Loss: 0.043\n",
      "[Epoch 6, Batch 200] Loss: 0.049\n",
      "[Epoch 6, Batch 300] Loss: 0.048\n",
      "[Epoch 6, Batch 400] Loss: 0.053\n",
      "[Epoch 6, Batch 500] Loss: 0.050\n",
      "[Epoch 6, Batch 600] Loss: 0.060\n",
      "[Epoch 6, Batch 700] Loss: 0.052\n",
      "[Epoch 7, Batch 100] Loss: 0.031\n",
      "[Epoch 7, Batch 200] Loss: 0.029\n",
      "[Epoch 7, Batch 300] Loss: 0.028\n",
      "[Epoch 7, Batch 400] Loss: 0.047\n",
      "[Epoch 7, Batch 500] Loss: 0.043\n",
      "[Epoch 7, Batch 600] Loss: 0.045\n",
      "[Epoch 7, Batch 700] Loss: 0.043\n",
      "[Epoch 8, Batch 100] Loss: 0.029\n",
      "[Epoch 8, Batch 200] Loss: 0.027\n",
      "[Epoch 8, Batch 300] Loss: 0.028\n",
      "[Epoch 8, Batch 400] Loss: 0.029\n",
      "[Epoch 8, Batch 500] Loss: 0.033\n",
      "[Epoch 8, Batch 600] Loss: 0.033\n",
      "[Epoch 8, Batch 700] Loss: 0.035\n",
      "[Epoch 9, Batch 100] Loss: 0.028\n",
      "[Epoch 9, Batch 200] Loss: 0.025\n",
      "[Epoch 9, Batch 300] Loss: 0.028\n",
      "[Epoch 9, Batch 400] Loss: 0.020\n",
      "[Epoch 9, Batch 500] Loss: 0.036\n",
      "[Epoch 9, Batch 600] Loss: 0.036\n",
      "[Epoch 9, Batch 700] Loss: 0.028\n",
      "[Epoch 10, Batch 100] Loss: 0.024\n",
      "[Epoch 10, Batch 200] Loss: 0.026\n",
      "[Epoch 10, Batch 300] Loss: 0.020\n",
      "[Epoch 10, Batch 400] Loss: 0.029\n",
      "[Epoch 10, Batch 500] Loss: 0.025\n",
      "[Epoch 10, Batch 600] Loss: 0.033\n",
      "[Epoch 10, Batch 700] Loss: 0.029\n"
     ]
    },
    {
     "data": {
      "image/png": "[encoded data removed]",
      "text/plain": [
       "<Figure size 1080x360 with 1 Axes>"
      ]
     },
     "metadata": {
      "needs_background": "light"
     },
     "output_type": "display_data"
    },
    {
     "name": "stdout",
     "output_type": "stream",
     "text": [
      "PyTorch Model Accuracy: 0.627521986549405\n",
      "              precision    recall  f1-score   support\n",
      "\n",
      "           0       0.25      0.25      0.25      5755\n",
      "           1       0.75      0.75      0.75     17441\n",
      "\n",
      "    accuracy                           0.63     23196\n",
      "   macro avg       0.50      0.50      0.50     23196\n",
      "weighted avg       0.63      0.63      0.63     23196\n",
      "\n"
     ]
    }
   ],
   "source": [
    "import torch\n",
    "import torch.nn as nn\n",
    "import torch.optim as optim\n",
    "from torch.utils.data import DataLoader, TensorDataset\n",
    "\n",
    "data = pd.read_csv('FakeNewsNet.csv')\n",
    "vectorizer = TfidfVectorizer()\n",
    "X = vectorizer.fit_transform(data['title'])\n",
    "y = data['real']\n",
    "\n",
    "X_tensor = torch.Tensor(X.toarray())\n",
    "y_tensor = torch.LongTensor(y.values)\n",
    "\n",
    "class Net(nn.Module):\n",
    "    def __init__(self):\n",
    "        super(Net, self).__init__()\n",
    "        self.fc1 = nn.Linear(X.shape[1], 32)\n",
    "        self.fc2 = nn.Linear(32, 16)\n",
    "        self.fc3 = nn.Linear(16, 2)\n",
    "\n",
    "    def forward(self, x):\n",
    "        x = torch.relu(self.fc1(x))\n",
    "        x = torch.relu(self.fc2(x))\n",
    "        x = self.fc3(x)\n",
    "        return x\n",
    "\n",
    "dataset = TensorDataset(X_tensor, y_tensor)\n",
    "dataloader = DataLoader(dataset, batch_size=32, shuffle=True)\n",
    "\n",
    "model = Net()\n",
    "criterion = nn.CrossEntropyLoss()\n",
    "optimizer = optim.Adam(model.parameters(), lr=0.01)\n",
    "\n",
    "for epoch in range(10):\n",
    "    running_loss = 0.0\n",
    "    for i, data in enumerate(dataloader, 0):\n",
    "        inputs, labels = data\n",
    "\n",
    "        optimizer.zero_grad()\n",
    "\n",
    "        outputs = model(inputs)\n",
    "        loss = criterion(outputs, labels)\n",
    "        loss.backward()\n",
    "\n",
    "        optimizer.step()\n",
    "\n",
    "        running_loss += loss.item()\n",
    "        if i % 100 == 99:\n",
    "            print(f\"[Epoch {epoch+1}, Batch {i+1}] Loss: {running_loss/100:.3f}\")\n",
    "            running_loss = 0.0\n",
    "\n",
    "model.eval()\n",
    "with torch.no_grad():\n",
    "    y_pred = []\n",
    "    for i, data in enumerate(dataloader, 0):\n",
    "        inputs, labels = data\n",
    "        outputs = model(inputs)\n",
    "        _, predicted = torch.max(outputs.data, 1)\n",
    "        y_pred.extend(predicted.tolist())\n",
    "\n",
    "    cm = confusion_matrix(y, y_pred)\n",
    "    plot_confusion_matrix(cm, \"PyTorch Model\")\n",
    "    print(f\"PyTorch Model Accuracy:\", accuracy_score(y, y_pred))\n",
    "    print(classification_report(y, y_pred))\n"
   ]
  },
  {
   "cell_type": "code",
   "execution_count": 13,
   "metadata": {},
   "outputs": [
    {
     "name": "stdout",
     "output_type": "stream",
     "text": [
      "[Epoch 1, Batch 100] Loss: 0.016\n",
      "[Epoch 1, Batch 200] Loss: 0.021\n",
      "[Epoch 1, Batch 300] Loss: 0.017\n",
      "[Epoch 1, Batch 400] Loss: 0.029\n",
      "[Epoch 1, Batch 500] Loss: 0.024\n",
      "[Epoch 1, Batch 600] Loss: 0.029\n",
      "[Epoch 1, Batch 700] Loss: 0.027\n",
      "[Epoch 2, Batch 100] Loss: 0.018\n",
      "[Epoch 2, Batch 200] Loss: 0.017\n",
      "[Epoch 2, Batch 300] Loss: 0.015\n",
      "[Epoch 2, Batch 400] Loss: 0.025\n",
      "[Epoch 2, Batch 500] Loss: 0.029\n",
      "[Epoch 2, Batch 600] Loss: 0.020\n",
      "[Epoch 2, Batch 700] Loss: 0.023\n",
      "[Epoch 3, Batch 100] Loss: 0.019\n",
      "[Epoch 3, Batch 200] Loss: 0.015\n",
      "[Epoch 3, Batch 300] Loss: 0.018\n",
      "[Epoch 3, Batch 400] Loss: 0.022\n",
      "[Epoch 3, Batch 500] Loss: 0.025\n",
      "[Epoch 3, Batch 600] Loss: 0.017\n",
      "[Epoch 3, Batch 700] Loss: 0.026\n",
      "[Epoch 4, Batch 100] Loss: 0.019\n",
      "[Epoch 4, Batch 200] Loss: 0.014\n",
      "[Epoch 4, Batch 300] Loss: 0.020\n",
      "[Epoch 4, Batch 400] Loss: 0.018\n",
      "[Epoch 4, Batch 500] Loss: 0.019\n",
      "[Epoch 4, Batch 600] Loss: 0.019\n",
      "[Epoch 4, Batch 700] Loss: 0.021\n",
      "[Epoch 5, Batch 100] Loss: 0.019\n",
      "[Epoch 5, Batch 200] Loss: 0.012\n",
      "[Epoch 5, Batch 300] Loss: 0.022\n",
      "[Epoch 5, Batch 400] Loss: 0.013\n",
      "[Epoch 5, Batch 500] Loss: 0.016\n",
      "[Epoch 5, Batch 600] Loss: 0.022\n",
      "[Epoch 5, Batch 700] Loss: 0.023\n",
      "[Epoch 6, Batch 100] Loss: 0.014\n",
      "[Epoch 6, Batch 200] Loss: 0.018\n",
      "[Epoch 6, Batch 300] Loss: 0.019\n",
      "[Epoch 6, Batch 400] Loss: 0.017\n",
      "[Epoch 6, Batch 500] Loss: 0.017\n",
      "[Epoch 6, Batch 600] Loss: 0.019\n",
      "[Epoch 6, Batch 700] Loss: 0.024\n",
      "[Epoch 7, Batch 100] Loss: 0.009\n",
      "[Epoch 7, Batch 200] Loss: 0.014\n",
      "[Epoch 7, Batch 300] Loss: 0.016\n",
      "[Epoch 7, Batch 400] Loss: 0.022\n",
      "[Epoch 7, Batch 500] Loss: 0.015\n",
      "[Epoch 7, Batch 600] Loss: 0.019\n",
      "[Epoch 7, Batch 700] Loss: 0.026\n",
      "[Epoch 8, Batch 100] Loss: 0.013\n",
      "[Epoch 8, Batch 200] Loss: 0.014\n",
      "[Epoch 8, Batch 300] Loss: 0.011\n",
      "[Epoch 8, Batch 400] Loss: 0.010\n",
      "[Epoch 8, Batch 500] Loss: 0.021\n",
      "[Epoch 8, Batch 600] Loss: 0.017\n",
      "[Epoch 8, Batch 700] Loss: 0.019\n",
      "[Epoch 9, Batch 100] Loss: 0.012\n",
      "[Epoch 9, Batch 200] Loss: 0.018\n",
      "[Epoch 9, Batch 300] Loss: 0.016\n",
      "[Epoch 9, Batch 400] Loss: 0.015\n",
      "[Epoch 9, Batch 500] Loss: 0.022\n",
      "[Epoch 9, Batch 600] Loss: 0.015\n",
      "[Epoch 9, Batch 700] Loss: 0.020\n",
      "[Epoch 10, Batch 100] Loss: 0.013\n",
      "[Epoch 10, Batch 200] Loss: 0.017\n",
      "[Epoch 10, Batch 300] Loss: 0.014\n",
      "[Epoch 10, Batch 400] Loss: 0.014\n",
      "[Epoch 10, Batch 500] Loss: 0.012\n",
      "[Epoch 10, Batch 600] Loss: 0.011\n",
      "[Epoch 10, Batch 700] Loss: 0.015\n"
     ]
    },
    {
     "data": {
      "image/png": "[encoded data removed]",
      "text/plain": [
       "<Figure size 432x288 with 1 Axes>"
      ]
     },
     "metadata": {
      "needs_background": "light"
     },
     "output_type": "display_data"
    }
   ],
   "source": [
    "import matplotlib.pyplot as plt\n",
    "\n",
    "losses = []\n",
    "for epoch in range(10):\n",
    "    running_loss = 0.0\n",
    "    for i, data in enumerate(dataloader, 0):\n",
    "        inputs, labels = data\n",
    "\n",
    "        optimizer.zero_grad()\n",
    "\n",
    "        outputs = model(inputs)\n",
    "        loss = criterion(outputs, labels)\n",
    "        loss.backward()\n",
    "\n",
    "        optimizer.step()\n",
    "\n",
    "        running_loss += loss.item()\n",
    "        if i % 100 == 99:\n",
    "            print(f\"[Epoch {epoch+1}, Batch {i+1}] Loss: {running_loss/100:.3f}\")\n",
    "            running_loss = 0.0\n",
    "    losses.append(running_loss)\n",
    "\n",
    "# Plot the loss over epochs\n",
    "plt.plot(range(1, 11), losses)\n",
    "plt.xlabel('Epoch')\n",
    "plt.ylabel('Loss')\n",
    "plt.show()"
   ]
  },
  {
   "cell_type": "code",
   "execution_count": null,
   "metadata": {},
   "outputs": [],
   "source": []
  }
 ],
 "metadata": {
  "kernelspec": {
   "display_name": "base",
   "language": "python",
   "name": "python3"
  },
  "language_info": {
   "codemirror_mode": {
    "name": "ipython",
    "version": 3
   },
   "file_extension": ".py",
   "mimetype": "text/x-python",
   "name": "python",
   "nbconvert_exporter": "python",
   "pygments_lexer": "ipython3",
   "version": "3.8.8"
  },
  "orig_nbformat": 4,
  "vscode": {
   "interpreter": {
    "hash": "bcd173f49a4676c83748f07207e44cf93f415f269fbd67c5d04e9430681fc361"
   }
  }
 },
 "nbformat": 4,
 "nbformat_minor": 2
}
